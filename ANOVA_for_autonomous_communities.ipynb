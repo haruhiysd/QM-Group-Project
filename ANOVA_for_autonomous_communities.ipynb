{
  "nbformat": 4,
  "nbformat_minor": 0,
  "metadata": {
    "colab": {
      "provenance": [],
      "authorship_tag": "ABX9TyPU+RVvQvKOb7TWqLOnt9HS",
      "include_colab_link": true
    },
    "kernelspec": {
      "name": "python3",
      "display_name": "Python 3"
    },
    "language_info": {
      "name": "python"
    }
  },
  "cells": [
    {
      "cell_type": "markdown",
      "metadata": {
        "id": "view-in-github",
        "colab_type": "text"
      },
      "source": [
        "<a href=\"https://colab.research.google.com/github/haruhiysd/QM-Group-Project/blob/main/ANOVA_for_autonomous_communities.ipynb\" target=\"_parent\"><img src=\"https://colab.research.google.com/assets/colab-badge.svg\" alt=\"Open In Colab\"/></a>"
      ]
    },
    {
      "cell_type": "code",
      "execution_count": 76,
      "metadata": {
        "id": "o8nV5dK562f_",
        "colab": {
          "base_uri": "https://localhost:8080/"
        },
        "outputId": "c079de06-24c5-480b-98a2-3179cfe388d8"
      },
      "outputs": [
        {
          "output_type": "stream",
          "name": "stdout",
          "text": [
            "Requirement already satisfied: pingouin in /usr/local/lib/python3.11/dist-packages (0.5.5)\n",
            "Requirement already satisfied: matplotlib in /usr/local/lib/python3.11/dist-packages (from pingouin) (3.10.0)\n",
            "Requirement already satisfied: numpy in /usr/local/lib/python3.11/dist-packages (from pingouin) (1.26.4)\n",
            "Requirement already satisfied: pandas>=1.5 in /usr/local/lib/python3.11/dist-packages (from pingouin) (2.2.2)\n",
            "Requirement already satisfied: pandas-flavor in /usr/local/lib/python3.11/dist-packages (from pingouin) (0.6.0)\n",
            "Requirement already satisfied: scikit-learn>=1.2 in /usr/local/lib/python3.11/dist-packages (from pingouin) (1.6.0)\n",
            "Requirement already satisfied: scipy in /usr/local/lib/python3.11/dist-packages (from pingouin) (1.13.1)\n",
            "Requirement already satisfied: seaborn in /usr/local/lib/python3.11/dist-packages (from pingouin) (0.13.2)\n",
            "Requirement already satisfied: statsmodels in /usr/local/lib/python3.11/dist-packages (from pingouin) (0.14.4)\n",
            "Requirement already satisfied: tabulate in /usr/local/lib/python3.11/dist-packages (from pingouin) (0.9.0)\n",
            "Requirement already satisfied: python-dateutil>=2.8.2 in /usr/local/lib/python3.11/dist-packages (from pandas>=1.5->pingouin) (2.8.2)\n",
            "Requirement already satisfied: pytz>=2020.1 in /usr/local/lib/python3.11/dist-packages (from pandas>=1.5->pingouin) (2024.2)\n",
            "Requirement already satisfied: tzdata>=2022.7 in /usr/local/lib/python3.11/dist-packages (from pandas>=1.5->pingouin) (2024.2)\n",
            "Requirement already satisfied: joblib>=1.2.0 in /usr/local/lib/python3.11/dist-packages (from scikit-learn>=1.2->pingouin) (1.4.2)\n",
            "Requirement already satisfied: threadpoolctl>=3.1.0 in /usr/local/lib/python3.11/dist-packages (from scikit-learn>=1.2->pingouin) (3.5.0)\n",
            "Requirement already satisfied: contourpy>=1.0.1 in /usr/local/lib/python3.11/dist-packages (from matplotlib->pingouin) (1.3.1)\n",
            "Requirement already satisfied: cycler>=0.10 in /usr/local/lib/python3.11/dist-packages (from matplotlib->pingouin) (0.12.1)\n",
            "Requirement already satisfied: fonttools>=4.22.0 in /usr/local/lib/python3.11/dist-packages (from matplotlib->pingouin) (4.55.3)\n",
            "Requirement already satisfied: kiwisolver>=1.3.1 in /usr/local/lib/python3.11/dist-packages (from matplotlib->pingouin) (1.4.8)\n",
            "Requirement already satisfied: packaging>=20.0 in /usr/local/lib/python3.11/dist-packages (from matplotlib->pingouin) (24.2)\n",
            "Requirement already satisfied: pillow>=8 in /usr/local/lib/python3.11/dist-packages (from matplotlib->pingouin) (11.1.0)\n",
            "Requirement already satisfied: pyparsing>=2.3.1 in /usr/local/lib/python3.11/dist-packages (from matplotlib->pingouin) (3.2.1)\n",
            "Requirement already satisfied: xarray in /usr/local/lib/python3.11/dist-packages (from pandas-flavor->pingouin) (2025.1.1)\n",
            "Requirement already satisfied: patsy>=0.5.6 in /usr/local/lib/python3.11/dist-packages (from statsmodels->pingouin) (1.0.1)\n",
            "Requirement already satisfied: six>=1.5 in /usr/local/lib/python3.11/dist-packages (from python-dateutil>=2.8.2->pandas>=1.5->pingouin) (1.17.0)\n"
          ]
        }
      ],
      "source": [
        "!pip install pingouin\n",
        "import pandas as pd\n",
        "import numpy as np\n",
        "import statsmodels.api as sm\n",
        "import statsmodels.formula.api as smf\n",
        "import pingouin as pg\n",
        "from scipy.stats import f_oneway"
      ]
    },
    {
      "cell_type": "code",
      "source": [
        "df=pd.read_csv('/Book3.csv')"
      ],
      "metadata": {
        "id": "rWk7MbT_IkiW"
      },
      "execution_count": 62,
      "outputs": []
    },
    {
      "cell_type": "code",
      "source": [
        "rename_dict = {\n",
        "    '01 Andaluc√≠a': 'Andalucia',\n",
        "    '02 Arag√≥n': 'Aragon',\n",
        "    '03 Asturias, Principado de': 'Principado de Asturias',\n",
        "    '04 Balears, Illes': 'Illes Balears',\n",
        "    '05 Canarias': 'Canarias',\n",
        "    '06 Cantabria': 'Cantabria',\n",
        "    '07 Castilla y Le√≥n': 'Castilla y Leon',\n",
        "    '08 Castilla - La Mancha': 'Castilla La Mancha',\n",
        "    '09 Catalu√±a': 'Cataluna',\n",
        "    '10 Comunitat Valenciana': 'Comunitat Valenciana',\n",
        "    '11 Extremadura': 'Extremadura',\n",
        "    '12 Galicia': 'Galicia',\n",
        "    '13 Madrid, Comunidad de': 'Comunidad de Madrid',\n",
        "    '14 Murcia, Regi√≥n de': 'Region de Murcia',\n",
        "    '15 Navarra, Comunidad Foral de': 'Comunidad Foral de Navarra',\n",
        "    '16 Pa√≠s Vasco': 'Pais Vasco',\n",
        "    '17 Rioja, La': 'La Rioja',\n",
        "}"
      ],
      "metadata": {
        "id": "v7WovbCCJCNH"
      },
      "execution_count": 63,
      "outputs": []
    },
    {
      "cell_type": "code",
      "source": [
        "df['Autonomous_community'] = (\n",
        "    df['Autonomous_community']\n",
        "    .replace(rename_dict)\n",
        ")"
      ],
      "metadata": {
        "id": "1GOAJ_iAWF4C"
      },
      "execution_count": 64,
      "outputs": []
    },
    {
      "cell_type": "code",
      "source": [
        "df.columns = df.columns.astype(str).str.replace(' ', '_').str.replace('[^a-zA-Z0-9_]', '', regex=True)"
      ],
      "metadata": {
        "id": "SK8HtNlcXj_-"
      },
      "execution_count": 71,
      "outputs": []
    },
    {
      "cell_type": "code",
      "source": [
        "df['Period'] = pd.to_datetime(df['Period'], dayfirst=True)"
      ],
      "metadata": {
        "id": "BYcqjq9OWPT0"
      },
      "execution_count": 72,
      "outputs": []
    },
    {
      "cell_type": "code",
      "source": [
        "df['Autonomous_community'] = df['Autonomous_community'].astype('category')"
      ],
      "metadata": {
        "id": "rcEy1BUEJFAe"
      },
      "execution_count": 73,
      "outputs": []
    },
    {
      "cell_type": "code",
      "source": [
        "df_2018 = df[df['Period'].dt.year == 2018].copy()"
      ],
      "metadata": {
        "id": "pITy-S81bBg_"
      },
      "execution_count": 79,
      "outputs": []
    },
    {
      "cell_type": "code",
      "source": [
        "\n",
        "groups = []\n",
        "for community in df_2018[\"Autonomous_community\"].unique():\n",
        "    group_values = df_2018.loc[df_2018[\"Autonomous_community\"] == community, \"Unemployment_rate\"]\n",
        "    groups.append(group_values)\n",
        "\n",
        "f_stat, p_value = f_oneway(*groups)\n",
        "print(\"=== SciPy One-Way ANOVA for Unemployment Rate (2018) ===\")\n",
        "print(f\"F = {f_stat:.4f}, p-value = {p_value:.4e}\")\n"
      ],
      "metadata": {
        "colab": {
          "base_uri": "https://localhost:8080/"
        },
        "id": "J5O3J413Y8rQ",
        "outputId": "75001c99-9e3c-4042-c6b5-5a2f6b6639c1"
      },
      "execution_count": 80,
      "outputs": [
        {
          "output_type": "stream",
          "name": "stdout",
          "text": [
            "=== SciPy One-Way ANOVA for Unemployment Rate (2018) ===\n",
            "F = nan, p-value = nan\n"
          ]
        },
        {
          "output_type": "stream",
          "name": "stderr",
          "text": [
            "/usr/local/lib/python3.11/dist-packages/scipy/stats/_stats_py.py:4102: DegenerateDataWarning: all input arrays have length 1.  f_oneway requires that at least one input has length greater than 1.\n",
            "  if _f_oneway_is_too_small(samples):\n"
          ]
        }
      ]
    },
    {
      "cell_type": "code",
      "source": [
        "groups = []\n",
        "for community in df_2018[\"Autonomous_community\"].unique():\n",
        "    group_values = df_2018.loc[df_2018[\"Autonomous_community\"] == community, \"Unemployment_rate\"]\n",
        "    if len(group_values) > 1:\n",
        "        groups.append(group_values)\n",
        "\n",
        "if len(groups) > 1:\n",
        "    f_stat, p_value = f_oneway(*groups)\n",
        "    print(\"=== SciPy One-Way ANOVA for Unemployment Rate (2018) ===\")\n",
        "    print(f\"F = {f_stat:.4f}, p-value = {p_value:.4e}\")\n",
        "else:\n",
        "    print(\"Not enough groups with sufficient data for ANOVA.\")"
      ],
      "metadata": {
        "colab": {
          "base_uri": "https://localhost:8080/"
        },
        "id": "gTThhBdtbVat",
        "outputId": "2fbd14ed-586f-43db-c0f4-c108ce38de3c"
      },
      "execution_count": 81,
      "outputs": [
        {
          "output_type": "stream",
          "name": "stdout",
          "text": [
            "Not enough groups with sufficient data for ANOVA.\n"
          ]
        }
      ]
    }
  ]
}